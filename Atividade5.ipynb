{
  "nbformat": 4,
  "nbformat_minor": 0,
  "metadata": {
    "colab": {
      "provenance": []
    },
    "kernelspec": {
      "name": "python3",
      "display_name": "Python 3"
    },
    "language_info": {
      "name": "python"
    }
  },
  "cells": [
    {
      "cell_type": "markdown",
      "source": [
        "# Introdução a Inteligência Artificial - Atividade 5\n",
        "## Alunos: Thiago Rodrigues Cruz Justino, Daniele V. Morais silva, Guilherme Barboza\n",
        "\n",
        "### 1) Com o espaço de estados das cidades da Romênia, escolha duas cidades para buscar uma rota usando a implementação de busca em largura que foi vista nos vídeos. Mostre o passo a passo da busca.\n",
        "\n",
        "### Resolução:\n",
        "Observando as características do ambiente: observável, discreto, determinístico, conhecido.\n",
        "\n",
        "Formulação:\n",
        " - Estado inicial: Usuário decide qual cidade inicia.\n",
        " - Ações: Mudar de cidades.\n",
        " - Modelo de transição: Obdecer as informações do mapa de forma a obter o menor custo.\n",
        " - Teste de objetivo: Usuário decide qual é a cidade final.\n",
        " - Custo das ações: Cada viajem tem seu valor.\n",
        "\n",
        "Acima está o espaço de estados que podem ser enxergados como árvore de busca, nesse caso. Simplificando e usando algumas cidades da Romênia, temos as seguintes cidades seguidas de suas \"vizinhas\" e entre parenteses o custo:\n",
        "\n",
        "Arad -> Zerind(75), Sibiu(140), Timisoara(118)\n",
        "\n",
        "Oradea -> Zerind(71), Sibiu(151)\n",
        "\n",
        "Zerind -> Arad(75), Oradea(71)\n",
        "\n",
        "Sibiu -> Arad(140), Oradea(151)\n",
        "\n",
        "Timisoara -> Arad(118), Lugoj(111)\n",
        "\n",
        "Decidimos fazer duas abordagens utilizando funções e definindo classes como feito nos vídeos postados. Abaixo está o código \"alternativo\" que recebe os estados e retorna todos os caminhos e ainda seleciona o que possui menor custo.\n"
      ],
      "metadata": {
        "id": "F617PwrBdUNR"
      }
    },
    {
      "cell_type": "code",
      "source": [
        "from collections import deque\n",
        "\n",
        "def busca_em_largura(estado_inicial, estado_final, acoes_por_estado):\n",
        "    fila = deque([[estado_inicial]])\n",
        "    todos_caminhos = []\n",
        "    visitados = set()\n",
        "\n",
        "    while fila:\n",
        "        caminho = fila.popleft()\n",
        "        estado_atual = caminho[-1]\n",
        "\n",
        "        if estado_atual == estado_final:\n",
        "            todos_caminhos.append(caminho)\n",
        "\n",
        "        if estado_atual not in visitados:\n",
        "            visitados.add(estado_atual)\n",
        "            for acao, _ in obter_acoes(estado_atual, acoes_por_estado):\n",
        "                novo_caminho = list(caminho)\n",
        "                novo_caminho.append(acao)\n",
        "                fila.append(novo_caminho)\n",
        "\n",
        "    return todos_caminhos\n",
        "\n",
        "def obter_acoes(estado, acoes_por_estado):\n",
        "    for estado_info in acoes_por_estado:\n",
        "        if estado_info[\"estado\"] == estado:\n",
        "            return estado_info[\"acoes\"]\n",
        "    return []  # Retorna uma lista vazia caso não encontre nenhuma ação para o estado\n",
        "\n",
        "def calcular_custo_total(caminho, acoes_por_estado):\n",
        "    custo_total = 0\n",
        "    for i in range(len(caminho) - 1):\n",
        "        estado_atual = caminho[i]\n",
        "        estado_destino = caminho[i + 1]\n",
        "        for acao, custo in obter_acoes(estado_atual, acoes_por_estado):\n",
        "            if acao == estado_destino:\n",
        "                custo_total += custo\n",
        "    return custo_total\n",
        "\n",
        "# Exemplo de utilização:\n",
        "acoes_por_estado = [\n",
        "    {'estado': 'Arad', 'acoes': [('Zerind', 75), ('Sibiu', 140), ('Timisoara', 118)]},\n",
        "    {'estado': 'Zerind', 'acoes': [('Arad', 75), ('Oradea', 71)]},\n",
        "    {'estado': 'Timisoara', 'acoes': [('Arad', 118), ('Lugoj', 111)]},\n",
        "    {'estado': 'Sibiu','acoes': [('Arad', 140), ('Oradea', 151), ('Fagaras', 99), ('Rimnicu Vilcea', 80)]},\n",
        "    {'estado': 'Oradea', 'acoes': [('Zerind', 71), ('Sibiu', 151)]},\n",
        "    {'estado': 'Lugoj', 'acoes': [('Timisoara', 111), ('Mehadia', 70)]},\n",
        "    {'estado': 'Mehadia', 'acoes': [('Lugoj', 70), ('Drobeta', 75)]},\n",
        "    {'estado': 'Drobeta', 'acoes': [('Mehadia', 75), ('Craiova', 120)]},\n",
        "    {'estado': 'Craiova', 'acoes': [('Drobeta', 120), ('Rimnicu Vilcea', 146), ('Pitesti', 138)]},\n",
        "    {'estado': 'Rimnicu Vilcea', 'acoes': [('Sibiu', 80), ('Craiova', 146), ('Pitesti', 97)]},\n",
        "    {'estado': 'Fagaras', 'acoes': [('Sibiu', 99), ('Bucharest', 211)]},\n",
        "    {'estado': 'Pitesti', 'acoes': [('Rimnicu Vilcea', 97), ('Craiova', 138), ('Bucharest', 101)]},\n",
        "    {'estado': 'Giurgiu', 'acoes': [('Bucharest', 90)]},\n",
        "    {'estado': 'Bucharest', 'acoes': [('Fagaras', 211), ('Pitesti', 101), ('Giurgiu', 90), ('Urziceni', 85)]},\n",
        "    {'estado': 'Urziceni','acoes': [('Bucharest', 85), ('Vaslui', 142), ('Hirsova', 98)]},\n",
        "    {'estado': 'Hirsova','acoes': [('Urziceni', 98), ('Eforie', 86)]},\n",
        "    {'estado': 'Eforie','acoes': [('Hirsova', 86)]},\n",
        "    {'estado': 'Vaslui','acoes': [('Urziceni', 142), ('Iasi', 92)]},\n",
        "    {'estado': 'Iasi','acoes': [('Vaslui', 92), ('Neamt', 87)]},\n",
        "    {'estado': 'Neamt', 'acoes': [('Iasi', 87)]}\n",
        "]\n",
        "\n",
        "print('----------------Encontre todos os caminhos-----------------')\n",
        "inicial = input('Digite o local de inicio: ')\n",
        "destino = input('Digite o local de destino: ')\n",
        "todos_caminhos = busca_em_largura(inicial, destino, acoes_por_estado)\n",
        "\n",
        "if todos_caminhos:\n",
        "    print(f\"Foram encontrados {len(todos_caminhos)} caminhos possíveis:\")\n",
        "    for idx, caminho in enumerate(todos_caminhos):\n",
        "        print(f\"Caminho: {' -> '.join(caminho)}\")\n",
        "        custo = calcular_custo_total(caminho, acoes_por_estado)\n",
        "        print(f\"Custo total: {custo}\")\n",
        "    menor_caminho = min(todos_caminhos, key=lambda c: calcular_custo_total(c, acoes_por_estado))\n",
        "    menor_custo = calcular_custo_total(menor_caminho, acoes_por_estado)\n",
        "    print(f\"\\nO caminho com o menor custo é: {' -> '.join(menor_caminho)}\")\n",
        "    print(f\"Custo total do menor caminho: {menor_custo}\")\n",
        "else:\n",
        "    print(\"Não foi possível encontrar um caminho válido.\")\n"
      ],
      "metadata": {
        "colab": {
          "base_uri": "https://localhost:8080/"
        },
        "id": "YZI_12pwFxYr",
        "outputId": "056fa189-7479-4879-f661-4baee8c6d8f2"
      },
      "execution_count": null,
      "outputs": [
        {
          "output_type": "stream",
          "name": "stdout",
          "text": [
            "----------------Encontre todos os caminhos-----------------\n",
            "Digite o local de inicio: Arad\n",
            "Digite o local de destino: Bucharest\n",
            "Foram encontrados 4 caminhos possíveis:\n",
            "Caminho: Arad -> Sibiu -> Fagaras -> Bucharest\n",
            "Custo total: 450\n",
            "Caminho: Arad -> Sibiu -> Rimnicu Vilcea -> Pitesti -> Bucharest\n",
            "Custo total: 418\n",
            "Caminho: Arad -> Sibiu -> Fagaras -> Bucharest -> Giurgiu -> Bucharest\n",
            "Custo total: 630\n",
            "Caminho: Arad -> Sibiu -> Fagaras -> Bucharest -> Urziceni -> Bucharest\n",
            "Custo total: 620\n",
            "\n",
            "O caminho com o menor custo é: Arad -> Sibiu -> Rimnicu Vilcea -> Pitesti -> Bucharest\n",
            "Custo total do menor caminho: 418\n"
          ]
        }
      ]
    },
    {
      "cell_type": "markdown",
      "source": [
        "###2) Usando a implementação de busca em largura que foi vista no vídeo como base, crie uma implementação similar para a busca em profundidade. O vídeo sobre busca em profundidade explica qual alteração deve ser feita. A implementação deve seguir o modelo da busca em largura e ter uma função que permita executar apenas um passo da busca de cada vez.\n",
        "\n",
        "###Resolução:\n",
        "\n",
        "Utilizando o código-fonte de busca em largura como base, nele foram realizadas algumas alterações para que pudesse realizar a busca em profundidade. As linhas de código que foram adaptadas estão dentro das classes: No e BuscaLargura (que depois passou a se chamar BuscaProfundidade).\n",
        "\n",
        "Na classe No, dentro da função constroi_solucao(self), a variável 'solucao' passa a receber o estado do nó atual e o custo. E na linha 'solucao.insert(0, no_atual), no lugar de 'no_atual' passa a ser (no_atual.estado, no_atual.custo).\n"
      ],
      "metadata": {
        "id": "oZL6SNnDbN7r"
      }
    },
    {
      "cell_type": "code",
      "source": [
        "class No:\n",
        "    def __init__(self, estado, custo, pai, acao):\n",
        "        self.estado = estado\n",
        "        self.custo = custo\n",
        "        self.pai = pai\n",
        "        self.acao = acao\n",
        "\n",
        "    def __str__(self):\n",
        "        return f'({self.estado}, {self.custo})'\n",
        "\n",
        "    def __repr__(self):\n",
        "        return self.__str__()\n",
        "\n",
        "    def filhos(self, problema):\n",
        "        espaco_acoes = next(e for e in problema.espaco_estados if e['estado'] == self.estado)\n",
        "\n",
        "        resultado = []\n",
        "        for acao in espaco_acoes['acoes']:\n",
        "            filho = No(acao['destino'], self.custo + acao['custo'], self, acao['destino'])\n",
        "            resultado.append(filho)\n",
        "\n",
        "        return resultado\n",
        "\n",
        "    def constroi_solucao(self):\n",
        "        no_atual = self\n",
        "        solucao = [(no_atual.estado, no_atual.custo)]#linha modificada\n",
        "        while no_atual.pai != None:\n",
        "            no_atual = no_atual.pai\n",
        "            solucao.insert(0, (no_atual.estado, no_atual.custo))#linha modificada\n",
        "\n",
        "        return solucao\n"
      ],
      "metadata": {
        "id": "uV5Cc1oxb-3b"
      },
      "execution_count": null,
      "outputs": []
    },
    {
      "cell_type": "markdown",
      "source": [
        "Já na classe BuscaProfundidade, as modificações foram feitas na função passo_busca(self). Na linha 'no = self.fronteira.pop(0)', o parâmetro 0 do método pop() foi retirado e passou a ficar vazio, pois por se tratar de uma pilha e não de uma fila, então o último elemento é o primeiro a sair."
      ],
      "metadata": {
        "id": "KhYy0HTnlHeF"
      }
    },
    {
      "cell_type": "code",
      "source": [
        "class BuscaProfundidade:\n",
        "    def __init__(self, problema):\n",
        "        self.problema = problema\n",
        "        self.fronteira = [problema.inicial]\n",
        "        self.visitados = [problema.inicial.estado]\n",
        "        self.solucao = []\n",
        "        self.situacao = BUSCA_INICIANDO\n",
        "\n",
        "    def executar(self):\n",
        "        while self.situacao != BUSCA_FALHOU and self.situacao != BUSCA_SUCESSO:\n",
        "            self.passo_busca()\n",
        "\n",
        "        if self.situacao == BUSCA_FALHOU:\n",
        "            print(\"Busca falhou\")\n",
        "        elif self.situacao == BUSCA_SUCESSO:\n",
        "            print(\"Busca teve sucesso\")\n",
        "            print(f\"Solucao: {self.solucao}\")\n",
        "\n",
        "        return\n",
        "\n",
        "    def passo_busca(self):\n",
        "        if self.situacao == BUSCA_FALHOU:\n",
        "            print(\"Busca falhou\")\n",
        "            return\n",
        "\n",
        "        if self.situacao == BUSCA_SUCESSO:\n",
        "            print(\"Busca chegou ao objetivo com sucesso\")\n",
        "            return\n",
        "\n",
        "        try:\n",
        "            no = self.fronteira.pop()#Linha modificada\n",
        "        except IndexError:\n",
        "            self.situacao = BUSCA_FALHA\n",
        "            return\n",
        "\n",
        "        # Testa o objetivo\n",
        "        if self.problema.objetivo(no):\n",
        "            self.situacao = BUSCA_SUCESSO\n",
        "            self.solucao = no.constroi_solucao()\n",
        "            return\n",
        "\n",
        "        # Obtém os filhos do nó\n",
        "        for filho in no.filhos(self.problema):\n",
        "            if not (filho in self.fronteira) and not (filho.estado in self.visitados):\n",
        "                self.fronteira.append(filho)\n",
        "                self.visitados.append(filho.estado)\n",
        "\n",
        "        return"
      ],
      "metadata": {
        "id": "oHVcnzP-kmRa"
      },
      "execution_count": null,
      "outputs": []
    },
    {
      "cell_type": "markdown",
      "source": [
        "###3) Usando a implementação de busca em profundidade desenvolvida para a questão anterior, resolva o problema de busca de rotas na Romênia (de Arad a Bucareste), usando os dados do livro e que estão disponíveis no código-fonte. Mostre o passo a passo da solução através da busca em profundidade e como a sequência de nós explorados difere da busca em largura.\n",
        "\n",
        "###Resolução:\n",
        "Local de início: Arad\n",
        "\n",
        "Local de destino: Bucharest\n",
        "\n",
        "Abaixo segue os caminhos apresentados por cada um dos algoritmos de busca."
      ],
      "metadata": {
        "id": "GgcyrNHzflla"
      }
    },
    {
      "cell_type": "code",
      "source": [
        "def acao(destino, custo):\n",
        "    return {'destino': destino, 'custo': custo}\n",
        "\n",
        "estados_romenia = [\n",
        "    {'estado': 'Arad', 'acoes': [acao('Zerind', 75), acao('Sibiu', 140), acao('Timisoara', 118)]},\n",
        "    {'estado': 'Zerind', 'acoes': [acao('Arad', 75), acao('Oradea', 71)]},\n",
        "    {'estado': 'Timisoara', 'acoes': [acao('Arad', 118), acao('Lugoj', 111)]},\n",
        "    {'estado': 'Sibiu','acoes': [acao('Arad', 140), acao('Oradea', 151), acao('Fagaras', 99), acao('Rimnicu Vilcea', 80)]},\n",
        "    {'estado': 'Oradea', 'acoes': [acao('Zerind', 71), acao('Sibiu', 151)]},\n",
        "    {'estado': 'Lugoj', 'acoes': [acao('Timisoara', 111), acao('Mehadia', 70)]},\n",
        "    {'estado': 'Mehadia', 'acoes': [acao('Lugoj', 70), acao('Drobeta', 75)]},\n",
        "    {'estado': 'Drobeta', 'acoes': [acao('Mehadia', 75), acao('Craiova', 120)]},\n",
        "    {'estado': 'Craiova', 'acoes': [acao('Drobeta', 120), acao('Rimnicu Vilcea', 146), acao('Pitesti', 138)]},\n",
        "    {'estado': 'Rimnicu Vilcea', 'acoes': [acao('Sibiu', 80), acao('Craiova', 146), acao('Pitesti', 97)]},\n",
        "    {'estado': 'Fagaras', 'acoes': [acao('Sibiu', 99), acao('Bucharest', 211)]},\n",
        "    {'estado': 'Pitesti', 'acoes': [acao('Rimnicu Vilcea', 97), acao('Craiova', 138), acao('Bucharest', 101)]},\n",
        "    {'estado': 'Giurgiu', 'acoes': [acao('Bucharest', 90)]},\n",
        "    {'estado': 'Bucharest', 'acoes': [acao('Fagaras', 211), acao('Pitesti', 101), acao('Giurgiu', 90), acao('Urziceni', 85)]},\n",
        "    {'estado': 'Urziceni','acoes': [acao('Bucharest', 85), acao('Vaslui', 142), acao('Hirsova', 98)]},\n",
        "    {'estado': 'Hirsova','acoes': [acao('Urziceni', 98), acao('Eforie', 86)]},\n",
        "    {'estado': 'Eforie','acoes': [acao('Hirsova', 86)]},\n",
        "    {'estado': 'Vaslui','acoes': [acao('Urziceni', 142), acao('Iasi', 92)]},\n",
        "    {'estado': 'Iasi','acoes': [acao('Vaslui', 92), acao('Neamt', 87)]},\n",
        "    {'estado': 'Neamt', 'acoes': [acao('Iasi', 87)]}\n",
        "]\n",
        "\n",
        "\n",
        "class No:\n",
        "    def __init__(self, estado, custo, pai, acao):\n",
        "        self.estado = estado\n",
        "        self.custo = custo\n",
        "        self.pai = pai\n",
        "        self.acao = acao\n",
        "\n",
        "    def __str__(self):\n",
        "        return f'({self.estado}, {self.custo})'\n",
        "\n",
        "    def __repr__(self):\n",
        "        return self.__str__()\n",
        "\n",
        "    def filhos(self, problema):\n",
        "        espaco_acoes = next(e for e in problema.espaco_estados if e['estado'] == self.estado)\n",
        "\n",
        "        resultado = []\n",
        "        for acao in espaco_acoes['acoes']:\n",
        "            filho = No(acao['destino'], self.custo + acao['custo'],\n",
        "                       self, acao['destino'])\n",
        "            resultado.append(filho)\n",
        "\n",
        "        return resultado\n",
        "\n",
        "    def constroi_solucao(self):\n",
        "        no_atual = self\n",
        "        solucao = [no_atual]\n",
        "        while no_atual.pai != None:\n",
        "            no_atual = no_atual.pai\n",
        "            solucao.insert(0, no_atual)\n",
        "\n",
        "        return solucao\n",
        "\n",
        "\n",
        "class Problema:\n",
        "    def __init__(self, espaco_estados, inicial, objetivo):\n",
        "        self.espaco_estados = espaco_estados\n",
        "        self.inicial = inicial\n",
        "        self.objetivo = objetivo\n",
        "\n",
        "BUSCA_INICIANDO = 0\n",
        "BUSCA_FALHOU = 1\n",
        "BUSCA_SUCESSO = 2\n",
        "BUSCA_EM_CURSO = 3\n",
        "\n",
        "class BuscaLargura:\n",
        "    def __init__(self, problema):\n",
        "        self.problema = problema\n",
        "        self.fronteira = [problema.inicial]\n",
        "        self.visitados = [problema.inicial.estado]\n",
        "        self.solucao = []\n",
        "        self.situacao = BUSCA_INICIANDO\n",
        "\n",
        "    def executar(self):\n",
        "        while self.situacao != BUSCA_FALHOU and self.situacao != BUSCA_SUCESSO:\n",
        "            self.passo_busca()\n",
        "\n",
        "        if self.situacao == BUSCA_FALHOU:\n",
        "            print(\"Busca falhou\")\n",
        "        elif self.situacao == BUSCA_SUCESSO:\n",
        "            print(\"Busca em Largura\")\n",
        "            print(\"Busca teve sucesso\")\n",
        "            print(f\"Solucao: {self.solucao}\\n\")\n",
        "\n",
        "        return\n",
        "\n",
        "    def passo_busca(self):\n",
        "        if (self.situacao == BUSCA_FALHOU):\n",
        "            print(\"Busca falhou\")\n",
        "            return\n",
        "\n",
        "        if (self.situacao == BUSCA_SUCESSO):\n",
        "            print(\"Busca chegou ao objetivo com sucesso\")\n",
        "            return\n",
        "\n",
        "        try:\n",
        "            no = self.fronteira.pop(0)\n",
        "        except IndexError:\n",
        "            self.situacao = BUSCA_FALHA\n",
        "            return\n",
        "\n",
        "        # faz teste do objetivo\n",
        "        if self.problema.objetivo(no):\n",
        "            self.situacao = BUSCA_SUCESSO\n",
        "            self.solucao = no.constroi_solucao()\n",
        "            return\n",
        "\n",
        "        # obtem os filhos do no\n",
        "        for filho in no.filhos(self.problema):\n",
        "            if not (filho in self.fronteira) and not (filho.estado in self.visitados):\n",
        "                self.fronteira.append(filho)\n",
        "                self.visitados.append(filho.estado)\n",
        "\n",
        "        return"
      ],
      "metadata": {
        "id": "KMtRIMQRqKv5"
      },
      "execution_count": null,
      "outputs": []
    },
    {
      "cell_type": "code",
      "source": [
        "def acao(destino, custo):\n",
        "    return {'destino': destino, 'custo': custo}\n",
        "\n",
        "estados_romenia = [\n",
        "    {'estado': 'Arad', 'acoes': [acao('Zerind', 75), acao('Sibiu', 140), acao('Timisoara', 118)]},\n",
        "    {'estado': 'Zerind', 'acoes': [acao('Arad', 75), acao('Oradea', 71)]},\n",
        "    {'estado': 'Timisoara', 'acoes': [acao('Arad', 118), acao('Lugoj', 111)]},\n",
        "    {'estado': 'Sibiu','acoes': [acao('Arad', 140), acao('Oradea', 151), acao('Fagaras', 99), acao('Rimnicu Vilcea', 80)]},\n",
        "    {'estado': 'Oradea', 'acoes': [acao('Zerind', 71), acao('Sibiu', 151)]},\n",
        "    {'estado': 'Lugoj', 'acoes': [acao('Timisoara', 111), acao('Mehadia', 70)]},\n",
        "    {'estado': 'Mehadia', 'acoes': [acao('Lugoj', 70), acao('Drobeta', 75)]},\n",
        "    {'estado': 'Drobeta', 'acoes': [acao('Mehadia', 75), acao('Craiova', 120)]},\n",
        "    {'estado': 'Craiova', 'acoes': [acao('Drobeta', 120), acao('Rimnicu Vilcea', 146), acao('Pitesti', 138)]},\n",
        "    {'estado': 'Rimnicu Vilcea', 'acoes': [acao('Sibiu', 80), acao('Craiova', 146), acao('Pitesti', 97)]},\n",
        "    {'estado': 'Fagaras', 'acoes': [acao('Sibiu', 99), acao('Bucharest', 211)]},\n",
        "    {'estado': 'Pitesti', 'acoes': [acao('Rimnicu Vilcea', 97), acao('Craiova', 138), acao('Bucharest', 101)]},\n",
        "    {'estado': 'Giurgiu', 'acoes': [acao('Bucharest', 90)]},\n",
        "    {'estado': 'Bucharest', 'acoes': [acao('Fagaras', 211), acao('Pitesti', 101), acao('Giurgiu', 90), acao('Urziceni', 85)]},\n",
        "    {'estado': 'Urziceni','acoes': [acao('Bucharest', 85), acao('Vaslui', 142), acao('Hirsova', 98)]},\n",
        "    {'estado': 'Hirsova','acoes': [acao('Urziceni', 98), acao('Eforie', 86)]},\n",
        "    {'estado': 'Eforie','acoes': [acao('Hirsova', 86)]},\n",
        "    {'estado': 'Vaslui','acoes': [acao('Urziceni', 142), acao('Iasi', 92)]},\n",
        "    {'estado': 'Iasi','acoes': [acao('Vaslui', 92), acao('Neamt', 87)]},\n",
        "    {'estado': 'Neamt', 'acoes': [acao('Iasi', 87)]}\n",
        "]\n",
        "\n",
        "\n",
        "class No:\n",
        "    def __init__(self, estado, custo, pai, acao):\n",
        "        self.estado = estado\n",
        "        self.custo = custo\n",
        "        self.pai = pai\n",
        "        self.acao = acao\n",
        "\n",
        "    def __str__(self):\n",
        "        return f'({self.estado}, {self.custo})'\n",
        "\n",
        "    def __repr__(self):\n",
        "        return self.__str__()\n",
        "\n",
        "    def filhos(self, problema):\n",
        "        espaco_acoes = next(e for e in problema.espaco_estados if e['estado'] == self.estado)\n",
        "\n",
        "        resultado = []\n",
        "        for acao in espaco_acoes['acoes']:\n",
        "            filho = No(acao['destino'], self.custo + acao['custo'], self, acao['destino'])\n",
        "            resultado.append(filho)\n",
        "\n",
        "        return resultado\n",
        "\n",
        "    def constroi_solucao(self):\n",
        "        no_atual = self\n",
        "        solucao = [(no_atual.estado, no_atual.custo)]\n",
        "        while no_atual.pai != None:\n",
        "            no_atual = no_atual.pai\n",
        "            solucao.insert(0, (no_atual.estado, no_atual.custo))\n",
        "\n",
        "        return solucao\n",
        "\n",
        "class Problema:\n",
        "    def __init__(self, espaco_estados, inicial, objetivo):\n",
        "        self.espaco_estados = espaco_estados\n",
        "        self.inicial = inicial\n",
        "        self.objetivo = objetivo\n",
        "\n",
        "\n",
        "BUSCA_INICIANDO = 0\n",
        "BUSCA_FALHOU = 1\n",
        "BUSCA_SUCESSO = 2\n",
        "BUSCA_EM_CURSO = 3\n",
        "\n",
        "\n",
        "class BuscaProfundidade:\n",
        "    def __init__(self, problema):\n",
        "        self.problema = problema\n",
        "        self.fronteira = [problema.inicial]\n",
        "        self.visitados = [problema.inicial.estado]\n",
        "        self.solucao = []\n",
        "        self.situacao = BUSCA_INICIANDO\n",
        "\n",
        "    def executar(self):\n",
        "        while self.situacao != BUSCA_FALHOU and self.situacao != BUSCA_SUCESSO:\n",
        "            self.passo_busca()\n",
        "\n",
        "        if self.situacao == BUSCA_FALHOU:\n",
        "            print(\"Busca falhou\")\n",
        "        elif self.situacao == BUSCA_SUCESSO:\n",
        "            print(\"Busca em Profundidade\")\n",
        "            print(\"Busca teve sucesso\")\n",
        "            print(f\"Solucao: {self.solucao}\")\n",
        "\n",
        "        return\n",
        "\n",
        "    def passo_busca(self):\n",
        "        if self.situacao == BUSCA_FALHOU:\n",
        "            print(\"Busca falhou\")\n",
        "            return\n",
        "\n",
        "        if self.situacao == BUSCA_SUCESSO:\n",
        "            print(\"Busca chegou ao objetivo com sucesso\")\n",
        "            return\n",
        "\n",
        "        try:\n",
        "            no = self.fronteira.pop()\n",
        "        except IndexError:\n",
        "            self.situacao = BUSCA_FALHOU\n",
        "            return\n",
        "\n",
        "        # Testa o objetivo\n",
        "        if self.problema.objetivo(no):\n",
        "            self.situacao = BUSCA_SUCESSO\n",
        "            self.solucao = no.constroi_solucao()\n",
        "            return\n",
        "\n",
        "        # Obtém os filhos do nó\n",
        "        for filho in no.filhos(self.problema):\n",
        "            if not (filho in self.fronteira) and not (filho.estado in self.visitados):\n",
        "                self.fronteira.append(filho)\n",
        "                self.visitados.append(filho.estado)\n",
        "\n",
        "        return"
      ],
      "metadata": {
        "id": "_Ts5HyYBfojH"
      },
      "execution_count": null,
      "outputs": []
    },
    {
      "cell_type": "code",
      "source": [
        "no_arad = No('Arad', 0, None, None)\n",
        "\n",
        "problema_romenia = Problema(estados_romenia, no_arad, lambda no: no.estado == 'Bucharest')\n",
        "\n",
        "busca_largura = BuscaLargura(problema_romenia)\n",
        "busca_profundidade = BuscaProfundidade(problema_romenia)\n",
        "\n",
        "busca_largura.executar()\n",
        "\n",
        "busca_profundidade.executar()"
      ],
      "metadata": {
        "colab": {
          "base_uri": "https://localhost:8080/"
        },
        "id": "J3bD6ouKpKX0",
        "outputId": "53727e42-b4e6-40ec-bc15-f11af44298f8"
      },
      "execution_count": null,
      "outputs": [
        {
          "output_type": "stream",
          "name": "stdout",
          "text": [
            "Busca em Largura\n",
            "Busca teve sucesso\n",
            "Solucao: [('Arad', 0), ('Sibiu', 140), ('Fagaras', 239), ('Bucharest', 450)]\n",
            "\n",
            "Busca em Profundidade\n",
            "Busca teve sucesso\n",
            "Solucao: [('Arad', 0), ('Timisoara', 118), ('Lugoj', 229), ('Mehadia', 299), ('Drobeta', 374), ('Craiova', 494), ('Pitesti', 632), ('Bucharest', 733)]\n"
          ]
        }
      ]
    },
    {
      "cell_type": "markdown",
      "source": [
        "### 4) O jogo do 8\n",
        "O objetivo do jogo é mover as peças, de forma a ordena-los da esquerda pra direita de cima para baixo."
      ],
      "metadata": {
        "id": "89ClMD5d2lPd"
      }
    },
    {
      "cell_type": "code",
      "source": [
        "import matplotlib.pyplot as plt\n",
        "from matplotlib import colors\n",
        "import numpy as np\n",
        "from collections import deque\n",
        "\n",
        "# Define o estado objetivo do tabuleiro\n",
        "estado_objetivo = [1, 2, 3, 4, 5, 6, 7, 8, 0]  # 0 representa o espaço em branco\n",
        "\n",
        "# Define as ações possíveis (movimentos)\n",
        "acoes = {\n",
        "    0: [1, 3],\n",
        "    1: [0, 2, 4],\n",
        "    2: [1, 5],\n",
        "    3: [0, 4, 6],\n",
        "    4: [1, 3, 5, 7],\n",
        "    5: [2, 4, 8],\n",
        "    6: [3, 7],\n",
        "    7: [4, 6, 8],\n",
        "    8: [5, 7]\n",
        "}\n",
        "\n",
        "def criar_tabuleiro(estado):\n",
        "    tabuleiro = np.array(estado).reshape(3, 3)\n",
        "    return tabuleiro\n",
        "\n",
        "def desenhar_tabuleiro(tabuleiro):\n",
        "    cmap = colors.ListedColormap(['white', 'blue'])\n",
        "    bounds = [0, 0.5, 1]\n",
        "    norm = colors.BoundaryNorm(bounds, cmap.N)\n",
        "\n",
        "    fig, ax = plt.subplots()\n",
        "    ax.imshow(tabuleiro, cmap=cmap, norm=norm)\n",
        "\n",
        "    for i in range(3):\n",
        "        for j in range(3):\n",
        "            ax.text(j, i, tabuleiro[i, j], ha='center', va='center', fontsize=20)\n",
        "\n",
        "    ax.grid(True, linewidth=2, color='black')\n",
        "    plt.axis('off')\n",
        "    plt.show()\n",
        "\n",
        "def busca_largura(estado_inicial):\n",
        "    fila = deque([(estado_inicial, [])])\n",
        "    visitados = set()\n",
        "\n",
        "    while fila:\n",
        "        estado, caminho = fila.popleft()\n",
        "        if estado == estado_objetivo:\n",
        "            return caminho\n",
        "        visitados.add(tuple(estado))\n",
        "\n",
        "        # Encontra a posição do espaço em branco (0)\n",
        "        pos_espaco = estado.index(0)\n",
        "\n",
        "        # Gera os novos estados possíveis\n",
        "        for acao in acoes[pos_espaco]:\n",
        "            novo_estado = estado[:]\n",
        "            novo_estado[pos_espaco], novo_estado[acao] = novo_estado[acao], novo_estado[pos_espaco]\n",
        "            if tuple(novo_estado) not in visitados:\n",
        "                fila.append((novo_estado, caminho + [acao]))\n",
        "\n",
        "    return None  # Retorna None se nenhum caminho for encontrado\n",
        "\n",
        "# Exemplo de uso\n",
        "estado_inicial = [1, 2, 3, 0, 4, 5, 6, 7, 8]  # Tabuleiro inicial\n",
        "caminho = busca_largura(estado_inicial)\n",
        "\n",
        "if caminho is not None:\n",
        "    # Visualiza o caminho\n",
        "    estado_atual = estado_inicial[:]\n",
        "    for i, movimento in enumerate(caminho):\n",
        "        pos_espaco = estado_atual.index(0)\n",
        "        estado_atual[pos_espaco], estado_atual[movimento] = estado_atual[movimento], estado_atual[pos_espaco]\n",
        "        print(f\"Passo {i + 1}: Mover {estado_atual[movimento]} para posição {movimento}\")\n",
        "        desenhar_tabuleiro(criar_tabuleiro(estado_atual))\n",
        "else:\n",
        "    print(\"Não foi possível encontrar uma solução para o estado inicial.\")\n",
        "\n"
      ],
      "metadata": {
        "colab": {
          "base_uri": "https://localhost:8080/",
          "height": 1000
        },
        "id": "Uoq0VkCn69jL",
        "outputId": "d9c05875-9969-47d3-98c2-14506eb05f60"
      },
      "execution_count": null,
      "outputs": [
        {
          "output_type": "stream",
          "name": "stdout",
          "text": [
            "Passo 1: Mover 0 para posição 4\n"
          ]
        },
        {
          "output_type": "display_data",
          "data": {
            "text/plain": [
              "<Figure size 640x480 with 1 Axes>"
            ],
            "image/png": "[encoded data removed]"
          },
          "metadata": {}
        },
        {
          "output_type": "stream",
          "name": "stdout",
          "text": [
            "Passo 2: Mover 0 para posição 5\n"
          ]
        },
        {
          "output_type": "display_data",
          "data": {
            "text/plain": [
              "<Figure size 640x480 with 1 Axes>"
            ],
            "image/png": "[encoded data removed]"
          },
          "metadata": {}
        },
        {
          "output_type": "stream",
          "name": "stdout",
          "text": [
            "Passo 3: Mover 0 para posição 8\n"
          ]
        },
        {
          "output_type": "display_data",
          "data": {
            "text/plain": [
              "<Figure size 640x480 with 1 Axes>"
            ],
            "image/png": "[encoded data removed]"
          },
          "metadata": {}
        },
        {
          "output_type": "stream",
          "name": "stdout",
          "text": [
            "Passo 4: Mover 0 para posição 7\n"
          ]
        },
        {
          "output_type": "display_data",
          "data": {
            "text/plain": [
              "<Figure size 640x480 with 1 Axes>"
            ],
            "image/png": "[encoded data removed]"
          },
          "metadata": {}
        },
        {
          "output_type": "stream",
          "name": "stdout",
          "text": [
            "Passo 5: Mover 0 para posição 6\n"
          ]
        },
        {
          "output_type": "display_data",
          "data": {
            "text/plain": [
              "<Figure size 640x480 with 1 Axes>"
            ],
            "image/png": "[encoded data removed]"
          },
          "metadata": {}
        },
        {
          "output_type": "stream",
          "name": "stdout",
          "text": [
            "Passo 6: Mover 0 para posição 3\n"
          ]
        },
        {
          "output_type": "display_data",
          "data": {
            "text/plain": [
              "<Figure size 640x480 with 1 Axes>"
            ],
            "image/png": "[encoded data removed]"
          },
          "metadata": {}
        },
        {
          "output_type": "stream",
          "name": "stdout",
          "text": [
            "Passo 7: Mover 0 para posição 4\n"
          ]
        },
        {
          "output_type": "display_data",
          "data": {
            "text/plain": [
              "<Figure size 640x480 with 1 Axes>"
            ],
            "image/png": "[encoded data removed]"
          },
          "metadata": {}
        },
        {
          "output_type": "stream",
          "name": "stdout",
          "text": [
            "Passo 8: Mover 0 para posição 7\n"
          ]
        },
        {
          "output_type": "display_data",
          "data": {
            "text/plain": [
              "<Figure size 640x480 with 1 Axes>"
            ],
            "image/png": "[encoded data removed]"
          },
          "metadata": {}
        },
        {
          "output_type": "stream",
          "name": "stdout",
          "text": [
            "Passo 9: Mover 0 para posição 8\n"
          ]
        },
        {
          "output_type": "display_data",
          "data": {
            "text/plain": [
              "<Figure size 640x480 with 1 Axes>"
            ],
            "image/png": "[encoded data removed]"
          },
          "metadata": {}
        },
        {
          "output_type": "stream",
          "name": "stdout",
          "text": [
            "Passo 10: Mover 0 para posição 5\n"
          ]
        },
        {
          "output_type": "display_data",
          "data": {
            "text/plain": [
              "<Figure size 640x480 with 1 Axes>"
            ],
            "image/png": "[encoded data removed]"
          },
          "metadata": {}
        },
        {
          "output_type": "stream",
          "name": "stdout",
          "text": [
            "Passo 11: Mover 0 para posição 4\n"
          ]
        },
        {
          "output_type": "display_data",
          "data": {
            "text/plain": [
              "<Figure size 640x480 with 1 Axes>"
            ],
            "image/png": "[encoded data removed]"
          },
          "metadata": {}
        },
        {
          "output_type": "stream",
          "name": "stdout",
          "text": [
            "Passo 12: Mover 0 para posição 3\n"
          ]
        },
        {
          "output_type": "display_data",
          "data": {
            "text/plain": [
              "<Figure size 640x480 with 1 Axes>"
            ],
            "image/png": "[encoded data removed]"
          },
          "metadata": {}
        },
        {
          "output_type": "stream",
          "name": "stdout",
          "text": [
            "Passo 13: Mover 0 para posição 6\n"
          ]
        },
        {
          "output_type": "display_data",
          "data": {
            "text/plain": [
              "<Figure size 640x480 with 1 Axes>"
            ],
            "image/png": "[encoded data removed]"
          },
          "metadata": {}
        },
        {
          "output_type": "stream",
          "name": "stdout",
          "text": [
            "Passo 14: Mover 0 para posição 7\n"
          ]
        },
        {
          "output_type": "display_data",
          "data": {
            "text/plain": [
              "<Figure size 640x480 with 1 Axes>"
            ],
            "image/png": "[encoded data removed]"
          },
          "metadata": {}
        },
        {
          "output_type": "stream",
          "name": "stdout",
          "text": [
            "Passo 15: Mover 0 para posição 8\n"
          ]
        },
        {
          "output_type": "display_data",
          "data": {
            "text/plain": [
              "<Figure size 640x480 with 1 Axes>"
            ],
            "image/png": "[encoded data removed]"
          },
          "metadata": {}
        }
      ]
    }
  ]
}