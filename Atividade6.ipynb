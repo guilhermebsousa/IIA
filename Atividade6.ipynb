{
  "nbformat": 4,
  "nbformat_minor": 0,
  "metadata": {
    "colab": {
      "provenance": []
    },
    "kernelspec": {
      "name": "python3",
      "display_name": "Python 3"
    },
    "language_info": {
      "name": "python"
    }
  },
  "cells": [
    {
      "cell_type": "markdown",
      "source": [
        "#Atividade 6 - Busca Aestrela (A*)\n",
        "#Grupo: Thiago Rodrigues, Daniele Vitória e Guilherme Barboza"
      ],
      "metadata": {
        "id": "gq1U-K-6mLMF"
      }
    },
    {
      "cell_type": "markdown",
      "source": [
        "##Introdução"
      ],
      "metadata": {
        "id": "rAPoRCXDmco1"
      }
    },
    {
      "cell_type": "markdown",
      "source": [
        "O algoritmo de busca A* é um algoritmo amplamente utilizado em inteligência artificial e em problemas de busca em grafos. Ele combina as características do algoritmo de busca de custo uniforme com a heurística para melhorar a eficiência da busca. O A* é especialmente útil em problemas onde é necessário encontrar o caminho mais curto entre dois pontos em um grafo, como em sistemas de navegação ou em jogos. Ele garante a otimalidade do caminho encontrado quando duas condições são satisfeitas: a função de heurística é admissível e o grafo não tem custos de aresta negativos. A função de heurística é uma estimativa do custo restante para chegar ao objetivo a partir de um determinado nó, e é fundamental para orientar a busca na direção certa."
      ],
      "metadata": {
        "id": "ih1-LJy3mZGs"
      }
    },
    {
      "cell_type": "markdown",
      "source": [
        "##Criação da Classe Node"
      ],
      "metadata": {
        "id": "JuI52LEm6ZXO"
      }
    },
    {
      "cell_type": "code",
      "source": [
        "import heapq\n",
        "\n",
        "class Node:\n",
        "    def __init__(self, state, parent=None, g=0, h=0):\n",
        "        self.state = state\n",
        "        self.parent = parent\n",
        "        self.g = g  # custo do caminho do estado inicial a este estado\n",
        "        self.h = h  # heurística: estimativa do custo do caminho deste estado ao estado objetivo\n",
        "\n",
        "    def f(self):\n",
        "        return self.g + self.h\n",
        "\n",
        "def busca(start_state, goal_state, graph):\n",
        "    open_list = []\n",
        "    closed_set = set()\n",
        "\n",
        "    start_node = Node(start_state)\n",
        "    heapq.heappush(open_list, (start_node.f(), id(start_node), start_node))\n",
        "\n",
        "    while open_list:\n",
        "        _, _, current_node = heapq.heappop(open_list)\n",
        "\n",
        "        if current_node.state == goal_state:\n",
        "            path = []\n",
        "            while current_node:\n",
        "                path.append(current_node.state)\n",
        "                current_node = current_node.parent\n",
        "            return path[::-1]\n",
        "\n",
        "        closed_set.add(current_node.state)\n",
        "\n",
        "        for neighbor_state, cost in graph.get(current_node.state, []):\n",
        "            if neighbor_state in closed_set:\n",
        "                continue\n",
        "\n",
        "            neighbor_node = Node(neighbor_state)\n",
        "            tentative_g = current_node.g + cost\n",
        "\n",
        "            if neighbor_node not in [node[2] for node in open_list]:\n",
        "                neighbor_node.parent = current_node\n",
        "                neighbor_node.g = tentative_g\n",
        "                neighbor_node.h = heuristic(neighbor_state, goal_state)\n",
        "                heapq.heappush(open_list, (neighbor_node.f(), id(neighbor_node), neighbor_node))\n",
        "            else:\n",
        "                for _, _, node in open_list:\n",
        "                    if node == neighbor_node and tentative_g < node.g:\n",
        "                        node.parent = current_node\n",
        "                        node.g = tentative_g\n",
        "                        heapq.heapify(open_list)\n",
        "                        break\n",
        "\n",
        "    return None  # Se não houver caminho possível\n"
      ],
      "metadata": {
        "id": "4fK89ner6Zqm"
      },
      "execution_count": null,
      "outputs": []
    },
    {
      "cell_type": "markdown",
      "source": [
        "##Busca A* de Arad à Bucareste"
      ],
      "metadata": {
        "id": "V_xwXvCZpZq7"
      }
    },
    {
      "cell_type": "code",
      "source": [
        "\n",
        "# Heurística: Distância em linha reta entre duas cidades (simplificada)\n",
        "def heuristic(state, goal_state):\n",
        "    heuristic_values = {\n",
        "        'Arad': 366, 'Bucharest': 0, 'Craiova': 160, 'Drobeta': 242, 'Eforie': 161,\n",
        "        'Fagaras': 178, 'Giurgiu': 77, 'Hirsova': 151, 'Iasi': 226, 'Lugoj': 244,\n",
        "        'Mehadia': 241, 'Neamt': 234, 'Oradea': 380, 'Pitesti': 98, 'Rimnicu Vilcea': 193,\n",
        "        'Sibiu': 253, 'Timisoara': 329, 'Urziceni': 80, 'Vaslui': 199, 'Zerind': 374\n",
        "    }\n",
        "    return heuristic_values[state]\n",
        "\n",
        "# Grafo representando as conexões entre cidades e os custos associados\n",
        "romenia = {'Arad': [('Sibiu', 140), ('Timisoara', 118), ('Zerind', 75)],\n",
        "          'Bucharest': [('Fagaras', 211), ('Giurgiu', 90), ('Pitesti', 101), ('Urziceni', 85)],\n",
        "          'Craiova': [('Drobeta', 120), ('Pitesti', 138), ('Rimnicu Vilcea', 146)],\n",
        "          'Drobeta': [('Craiova', 120), ('Mehadia', 75)],\n",
        "          'Eforie': [('Hirsova', 86)],\n",
        "          'Fagaras': [('Bucharest', 211), ('Sibiu', 99)],\n",
        "          'Giurgiu': [('Bucharest', 90)],\n",
        "          'Hirsova': [('Eforie', 86), ('Urziceni', 98)],\n",
        "          'Iasi': [('Neamt', 87), ('Vaslui', 92)],\n",
        "          'Lugoj': [('Mehadia', 70), ('Timisoara', 111)],\n",
        "          'Mehadia': [('Drobeta', 75), ('Lugoj', 70)],\n",
        "          'Neamt': [('Iasi', 87)],\n",
        "          'Oradea': [('Sibiu', 151), ('Zerind', 71)],\n",
        "          'Pitesti': [('Bucharest', 101), ('Craiova', 138), ('Rimnicu Vilcea', 97)],\n",
        "          'Rimnicu Vilcea': [('Craiova', 146), ('Pitesti', 97), ('Sibiu', 80)],\n",
        "          'Sibiu': [('Arad', 140), ('Fagaras', 99), ('Oradea', 151), ('Rimnicu Vilcea', 80)],\n",
        "          'Timisoara': [('Arad', 118), ('Lugoj', 111)],\n",
        "          'Urziceni': [('Bucharest', 85), ('Hirsova', 98), ('Vaslui', 142)],\n",
        "          'Vaslui': [('Iasi', 92), ('Urziceni', 142)],\n",
        "          'Zerind': [('Arad', 75), ('Oradea', 71)]\n",
        "      }\n",
        "\n",
        "start_state = 'Arad'\n",
        "goal_state = 'Bucharest'\n",
        "path = busca(start_state, goal_state, romenia)\n",
        "if path:\n",
        "    print(\"Melhor Rota:\", path)\n",
        "else:\n",
        "    print(\"Não há rota.\")"
      ],
      "metadata": {
        "id": "BbszHl02ouwV",
        "colab": {
          "base_uri": "https://localhost:8080/"
        },
        "outputId": "826099fe-df66-4283-edd4-5250323f7778"
      },
      "execution_count": null,
      "outputs": [
        {
          "output_type": "stream",
          "name": "stdout",
          "text": [
            "Caminho encontrado: ['Arad', 'Sibiu', 'Rimnicu Vilcea', 'Pitesti', 'Bucharest']\n"
          ]
        }
      ]
    },
    {
      "cell_type": "markdown",
      "source": [
        "##Implementação de Oradea e Craiova até Bucareste"
      ],
      "metadata": {
        "id": "qw_a_merqUbS"
      }
    },
    {
      "cell_type": "markdown",
      "source": [
        "###Oradea - Bucareste"
      ],
      "metadata": {
        "id": "nWErl99grBTC"
      }
    },
    {
      "cell_type": "code",
      "source": [
        "start_state = 'Oradea'\n",
        "goal_state = 'Bucharest'\n",
        "path = busca(start_state, goal_state, romenia)\n",
        "if path:\n",
        "    print(\"Melhor Rota:\", path)\n",
        "else:\n",
        "    print(\"Não há rota.\")"
      ],
      "metadata": {
        "id": "21IKcz7aqsPy",
        "colab": {
          "base_uri": "https://localhost:8080/"
        },
        "outputId": "e21ac7fe-ff4a-44de-9ed2-d68fac4a5164"
      },
      "execution_count": null,
      "outputs": [
        {
          "output_type": "stream",
          "name": "stdout",
          "text": [
            "Melhor Rota: ['Oradea', 'Sibiu', 'Rimnicu Vilcea', 'Pitesti', 'Bucharest']\n"
          ]
        }
      ]
    },
    {
      "cell_type": "markdown",
      "source": [
        "###Craiova - Bucareste"
      ],
      "metadata": {
        "id": "B688KOt6rVCD"
      }
    },
    {
      "cell_type": "code",
      "source": [
        "start_state = 'Craiova'\n",
        "goal_state = 'Bucharest'\n",
        "path = busca(start_state, goal_state, romenia)\n",
        "if path:\n",
        "    print(\"Melhor Rota:\", path)\n",
        "else:\n",
        "    print(\"Não há rota.\")"
      ],
      "metadata": {
        "id": "a80KfFmOrcbz",
        "colab": {
          "base_uri": "https://localhost:8080/"
        },
        "outputId": "828335bf-0240-4be2-a72d-27873a6e59f6"
      },
      "execution_count": null,
      "outputs": [
        {
          "output_type": "stream",
          "name": "stdout",
          "text": [
            "Melhor Rota: ['Craiova', 'Pitesti', 'Bucharest']\n"
          ]
        }
      ]
    },
    {
      "cell_type": "markdown",
      "source": [
        "##Implementação para um destino diferente de Bucareste"
      ],
      "metadata": {
        "id": "FxGeyN8frfqZ"
      }
    },
    {
      "cell_type": "markdown",
      "source": [
        "Nesta implementação será usada os dados geográficos de Longitude e Latitude das cidades da Romênia para criar uma nova função heurística."
      ],
      "metadata": {
        "id": "oOWA9gxyrzHC"
      }
    },
    {
      "cell_type": "code",
      "source": [
        "\n",
        "def heuristic(state, goal_state):\n",
        "    # Coordenadas das cidades (latitude e longitude)\n",
        "    city_coordinates = {\n",
        "        'Arad': (46.1866, 21.312),\n",
        "        'Bucharest': (44.4268, 26.1025),\n",
        "        'Craiova': (44.3302, 23.7949),\n",
        "        'Drobeta': (44.6269, 22.6527),\n",
        "        'Eforie': (44.0491, 28.6336),\n",
        "        'Fagaras': (45.8416, 24.9731),\n",
        "        'Giurgiu': (43.9037, 25.973),\n",
        "        'Hirsova': (44.6883, 27.9331),\n",
        "        'Iasi': (47.1585, 27.6014),\n",
        "        'Lugoj': (45.6909, 21.9032),\n",
        "        'Mehadia': (44.9038, 22.3659),\n",
        "        'Neamt': (46.9750, 26.3816),\n",
        "        'Oradea': (47.0458, 21.9183),\n",
        "        'Pitesti': (44.8565, 24.8699),\n",
        "        'Rimnicu Vilcea': (45.1095, 24.3641),\n",
        "        'Sibiu': (45.7983, 24.1256),\n",
        "        'Timisoara': (45.7489, 21.2087),\n",
        "        'Urziceni': (44.7183, 26.6457),\n",
        "        'Vaslui': (46.6407, 27.7276),\n",
        "        'Zerind': (47.1611, 21.9133)\n",
        "    }\n",
        "\n",
        "    # Coordenadas da cidade atual e do destino desejado\n",
        "    current_coordinates = city_coordinates[state]\n",
        "    goal_coordinates = city_coordinates[goal_state]\n",
        "\n",
        "    # Cálculo da distância em linha reta\n",
        "    distance = ((current_coordinates[0] - goal_coordinates[0])**2 + (current_coordinates[1] - goal_coordinates[1])**2)**0.5\n",
        "    return distance\n",
        "\n",
        "    # Grafo representando as conexões entre cidades e os custos associados\n",
        "romenia = {'Arad': [('Sibiu', 140), ('Timisoara', 118), ('Zerind', 75)],\n",
        "          'Bucharest': [('Fagaras', 211), ('Giurgiu', 90), ('Pitesti', 101), ('Urziceni', 85)],\n",
        "          'Craiova': [('Drobeta', 120), ('Pitesti', 138), ('Rimnicu Vilcea', 146)],\n",
        "          'Drobeta': [('Craiova', 120), ('Mehadia', 75)],\n",
        "          'Eforie': [('Hirsova', 86)],\n",
        "          'Fagaras': [('Bucharest', 211), ('Sibiu', 99)],\n",
        "          'Giurgiu': [('Bucharest', 90)],\n",
        "          'Hirsova': [('Eforie', 86), ('Urziceni', 98)],\n",
        "          'Iasi': [('Neamt', 87), ('Vaslui', 92)],\n",
        "          'Lugoj': [('Mehadia', 70), ('Timisoara', 111)],\n",
        "          'Mehadia': [('Drobeta', 75), ('Lugoj', 70)],\n",
        "          'Neamt': [('Iasi', 87)],\n",
        "          'Oradea': [('Sibiu', 151), ('Zerind', 71)],\n",
        "          'Pitesti': [('Bucharest', 101), ('Craiova', 138), ('Rimnicu Vilcea', 97)],\n",
        "          'Rimnicu Vilcea': [('Craiova', 146), ('Pitesti', 97), ('Sibiu', 80)],\n",
        "          'Sibiu': [('Arad', 140), ('Fagaras', 99), ('Oradea', 151), ('Rimnicu Vilcea', 80)],\n",
        "          'Timisoara': [('Arad', 118), ('Lugoj', 111)],\n",
        "          'Urziceni': [('Bucharest', 85), ('Hirsova', 98), ('Vaslui', 142)],\n",
        "          'Vaslui': [('Iasi', 92), ('Urziceni', 142)],\n",
        "          'Zerind': [('Arad', 75), ('Oradea', 71)]\n",
        "      }\n"
      ],
      "metadata": {
        "id": "7q9O9mndsEuw"
      },
      "execution_count": null,
      "outputs": []
    },
    {
      "cell_type": "markdown",
      "source": [
        "##Rota de Timisoara à Fagaras"
      ],
      "metadata": {
        "id": "bV9ymipptJP5"
      }
    },
    {
      "cell_type": "code",
      "source": [
        "\n",
        "start_state = 'Timisoara'\n",
        "goal_state = 'Fagaras'\n",
        "path = astar(start_state, goal_state, romenia)\n",
        "if path:\n",
        "    print(\"Caminho encontrado:\", path)\n",
        "else:\n",
        "    print(\"Não há caminho possível.\")"
      ],
      "metadata": {
        "id": "PowHFVoHtHQr",
        "colab": {
          "base_uri": "https://localhost:8080/"
        },
        "outputId": "dcf3c657-8575-462f-b734-e935f8efcc31"
      },
      "execution_count": null,
      "outputs": [
        {
          "output_type": "stream",
          "name": "stdout",
          "text": [
            "Caminho encontrado: ['Timisoara', 'Arad', 'Sibiu', 'Fagaras']\n"
          ]
        }
      ]
    },
    {
      "cell_type": "markdown",
      "source": [
        "##Problema de Rota com Pedágio"
      ],
      "metadata": {
        "id": "BWuE0i_XuCnZ"
      }
    },
    {
      "cell_type": "markdown",
      "source": [
        "Para esta etapa da atividade, foi criado um problema onde é necessário percorrer entre duas cidades utilizando o caminho com menos pedágios para minimizar os gastos com tarifas durante a viagem."
      ],
      "metadata": {
        "id": "hewLV4ATuEQ6"
      }
    },
    {
      "cell_type": "markdown",
      "source": [
        "###Dados das rotas do mapa"
      ],
      "metadata": {
        "id": "gGY5RltkvUfa"
      }
    },
    {
      "cell_type": "code",
      "source": [
        "\n",
        "road_map = {\n",
        "    'A': {'B': {'distance': 5, 'tolls': 1}, 'C': {'distance': 10, 'tolls': 2}, 'E': {'distance': 3, 'tolls': 1}},\n",
        "    'B': {'A': {'distance': 5, 'tolls': 1}, 'D': {'distance': 9, 'tolls': 2}},\n",
        "    'C': {'A': {'distance': 10, 'tolls': 2}, 'D': {'distance': 8, 'tolls': 1}, 'F': {'distance': 6, 'tolls': 1}},\n",
        "    'D': {'B': {'distance': 9, 'tolls': 2}, 'C': {'distance': 8, 'tolls': 1}, 'E': {'distance': 7, 'tolls': 1}, 'F': {'distance': 4, 'tolls': 1}},\n",
        "    'E': {'A': {'distance': 3, 'tolls': 1}, 'D': {'distance': 7, 'tolls': 1}},\n",
        "    'F': {'C': {'distance': 6, 'tolls': 1}, 'D': {'distance': 4, 'tolls': 1}}\n",
        "}\n",
        "\n",
        "# Coordenadas das interseções\n",
        "coordinates = {\n",
        "    'A': (0, 0),\n",
        "    'B': (2, 2),\n",
        "    'C': (3, 0),\n",
        "    'D': (5, 2),\n",
        "    'E': (1, -1),\n",
        "    'F': (4, -1)\n",
        "}"
      ],
      "metadata": {
        "id": "-oKdPNmjuDQJ"
      },
      "execution_count": null,
      "outputs": []
    },
    {
      "cell_type": "markdown",
      "source": [
        "###Código Principal"
      ],
      "metadata": {
        "id": "Lcb-w1Kqvbzi"
      }
    },
    {
      "cell_type": "code",
      "source": [
        "import math\n",
        "\n",
        "# Função heurística usando a distância euclidiana entre as interseções\n",
        "def heuristic(current, goal):\n",
        "    current_x, current_y = coordinates[current]\n",
        "    goal_x, goal_y = coordinates[goal]\n",
        "    return math.sqrt((current_x - goal_x)**2 + (current_y - goal_y)**2)\n",
        "\n",
        "# Implementação do algoritmo A* para encontrar o caminho com menos pedágios\n",
        "def astar_search_with_heuristic(start, goal, graph, heuristic):\n",
        "    open_list = [(start, 0, [])]  # Lista de nós a serem explorados (cada elemento é uma tupla (nó, custo, caminho))\n",
        "    closed_list = set()  # Conjunto de nós já explorados\n",
        "\n",
        "    while open_list:\n",
        "        current, cost_so_far, path = min(open_list, key=lambda x: x[1])  # Escolhe o nó com menor custo\n",
        "        open_list.remove((current, cost_so_far, path))\n",
        "\n",
        "        if current == goal:\n",
        "            return path + [current]\n",
        "\n",
        "        closed_list.add(current)\n",
        "\n",
        "        for neighbor, info in graph[current].items():\n",
        "            if neighbor in closed_list:\n",
        "                continue\n",
        "            new_cost = cost_so_far + info['tolls']  # Calcula o custo dos pedágios\n",
        "            new_path = path + [current]\n",
        "            open_list.append((neighbor, new_cost + heuristic(neighbor, goal), new_path))  # Adiciona a estimativa do custo restante\n",
        "\n",
        "    return []  # Se não há caminho possível\n",
        "\n",
        "# Execução da busca A* para encontrar o caminho com menos pedágios\n",
        "result = astar_search_with_heuristic('A', 'F', road_map, heuristic)\n",
        "print(\"Rota com menos pedágios: \", result)"
      ],
      "metadata": {
        "id": "mAL1ZMoNv1r4",
        "colab": {
          "base_uri": "https://localhost:8080/"
        },
        "outputId": "8e33b3db-e9d7-4660-fad0-f53e1eb341d4"
      },
      "execution_count": null,
      "outputs": [
        {
          "output_type": "stream",
          "name": "stdout",
          "text": [
            "Rota com menos pedágios:  ['A', 'C', 'F']\n"
          ]
        }
      ]
    }
  ]
}